{
 "cells": [
  {
   "cell_type": "markdown",
   "id": "14e01bb5-4b25-4fa7-b2db-00e037b227a6",
   "metadata": {},
   "source": [
    "# Atividade Teste"
   ]
  },
  {
   "cell_type": "markdown",
   "id": "4512eb5c-4a84-45e3-a4e5-998eeab4ab2b",
   "metadata": {},
   "source": [
    "Escreva um programa simples capaz de imprimir o seu nome no console."
   ]
  },
  {
   "cell_type": "code",
   "execution_count": null,
   "id": "1cfa7b6b-5cfa-4a91-bd45-1479ccfb2e81",
   "metadata": {},
   "outputs": [],
   "source": []
  }
 ],
 "metadata": {
  "kernelspec": {
   "display_name": "Java",
   "language": "java",
   "name": "java"
  },
  "language_info": {
   "codemirror_mode": "java",
   "file_extension": ".jshell",
   "mimetype": "text/x-java-source",
   "name": "Java",
   "pygments_lexer": "java",
   "version": "21.0.1+12-LTS-29"
  }
 },
 "nbformat": 4,
 "nbformat_minor": 5
}
