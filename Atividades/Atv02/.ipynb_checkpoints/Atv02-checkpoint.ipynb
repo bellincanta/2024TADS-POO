{
 "cells": [
  {
   "cell_type": "markdown",
   "id": "04689213-3104-4518-b399-8c1c86e4eace",
   "metadata": {},
   "source": [
    "# Atividade Avaliativa 02\n",
    "\n",
    "<p style=\"text-align:justify;\">\n",
    "Você é desafiado a criar uma classe em Java chamada ExercicioVariaveis que declare e inicialize variáveis de todos os tipos primitivos disponíveis na linguagem Java. Além disso, a classe deve utilizar caracteres especiais em algumas strings para demonstrar o uso adequado desses caracteres.\n",
    "\n",
    "Siga as instruções abaixo:\n",
    "</p>\n",
    "\n",
    "\n",
    "1. Declare e inicialize variáveis dos seguintes tipos primitivos:\n",
    "\n",
    "- int\n",
    "- long\n",
    "- float\n",
    "- double\n",
    "- char\n",
    "- boolean\n",
    "- byte\n",
    "- short\n",
    "- Exiba os valores das variáveis utilizando System.out.println.\n",
    "\n",
    "2. Utilize caracteres especiais em algumas strings para representar:\n",
    "\n",
    "- Caractere de nova linha (\\n)\n",
    "- Caractere de tabulação (\\t)\n",
    "- Caractere de aspas duplas (\")\n",
    "- Caractere de barra invertida (\\\\)\n",
    "- Certifique-se de que o código compila e execute corretamente.\n",
    "\n"
   ]
  },
  {
   "cell_type": "code",
   "execution_count": null,
   "id": "0eae7131-b08b-4ec8-b99f-cbc29ad0708d",
   "metadata": {},
   "outputs": [],
   "source": []
  }
 ],
 "metadata": {
  "kernelspec": {
   "display_name": "Java",
   "language": "java",
   "name": "java"
  },
  "language_info": {
   "codemirror_mode": "java",
   "file_extension": ".jshell",
   "mimetype": "text/x-java-source",
   "name": "Java",
   "pygments_lexer": "java",
   "version": "21.0.1+12-LTS-29"
  }
 },
 "nbformat": 4,
 "nbformat_minor": 5
}
