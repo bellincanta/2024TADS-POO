{
 "cells": [
  {
   "cell_type": "markdown",
   "id": "a49e99d1-9f68-40a8-a286-903f2fd2251b",
   "metadata": {},
   "source": [
    "# Atv01"
   ]
  },
  {
   "cell_type": "markdown",
   "id": "2f43b1b3-44a5-4b52-81b9-1b57ace64201",
   "metadata": {},
   "source": [
    "Escreva um código usando a estrutura mínima para um programa em java.\n",
    "Use comentários nas linhas do seu código."
   ]
  },
  {
   "cell_type": "code",
   "execution_count": 6,
   "id": "4d1aa8ae-5b25-4e64-b302-407522e905f9",
   "metadata": {},
   "outputs": [],
   "source": [
    "\n",
    "        \n"
   ]
  },
  {
   "cell_type": "code",
   "execution_count": null,
   "id": "5910c298-2c6e-48d0-9a75-1a6d634ed88c",
   "metadata": {},
   "outputs": [],
   "source": []
  },
  {
   "cell_type": "code",
   "execution_count": null,
   "id": "bfaaf2be-3e09-4c65-beb9-b0ad3191bbaf",
   "metadata": {},
   "outputs": [],
   "source": []
  },
  {
   "cell_type": "code",
   "execution_count": null,
   "id": "4cc4e240-21b5-4981-bfbb-60e5df8ce628",
   "metadata": {},
   "outputs": [],
   "source": []
  }
 ],
 "metadata": {
  "kernelspec": {
   "display_name": "Java",
   "language": "java",
   "name": "java"
  },
  "language_info": {
   "codemirror_mode": "java",
   "file_extension": ".jshell",
   "mimetype": "text/x-java-source",
   "name": "Java",
   "pygments_lexer": "java",
   "version": "21.0.1+12-LTS-29"
  }
 },
 "nbformat": 4,
 "nbformat_minor": 5
}
