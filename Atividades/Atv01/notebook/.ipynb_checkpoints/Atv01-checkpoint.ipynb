{
 "cells": [
  {
   "cell_type": "markdown",
   "id": "a49e99d1-9f68-40a8-a286-903f2fd2251b",
   "metadata": {},
   "source": [
    "# Atv01"
   ]
  },
  {
   "cell_type": "markdown",
   "id": "2f43b1b3-44a5-4b52-81b9-1b57ace64201",
   "metadata": {},
   "source": [
    "Apresente a soma de todos os argumentos inteiros ou reais recebidos"
   ]
  },
  {
   "cell_type": "code",
   "execution_count": null,
   "id": "4d1aa8ae-5b25-4e64-b302-407522e905f9",
   "metadata": {},
   "outputs": [],
   "source": []
  }
 ],
 "metadata": {
  "kernelspec": {
   "display_name": "Java",
   "language": "java",
   "name": "java"
  },
  "language_info": {
   "codemirror_mode": "java",
   "file_extension": ".jshell",
   "mimetype": "text/x-java-source",
   "name": "Java",
   "pygments_lexer": "java",
   "version": "19.0.2+7-44"
  }
 },
 "nbformat": 4,
 "nbformat_minor": 5
}
